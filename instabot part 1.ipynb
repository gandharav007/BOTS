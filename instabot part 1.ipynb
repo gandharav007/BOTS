{
 "cells": [
  {
   "cell_type": "code",
   "execution_count": null,
   "metadata": {},
   "outputs": [],
   "source": [
    "#https://www.instagram.com/accounts/login/?source=auth_switcher\n",
    "from selenium import webdriver as wb\n",
    "x=wb.Chrome('C:/Users/GANDHARAV/datascience and ml programs/chromedriver.exe')\n",
    "x.get('https://www.instagram.com/accounts/login/?source=auth_switcher')"
   ]
  },
  {
   "cell_type": "code",
   "execution_count": null,
   "metadata": {},
   "outputs": [],
   "source": [
    "#task 1.1\n",
    "#login to your instagram account\n",
    "f=x.find_elements_by_tag_name('input')\n",
    "for i in f:\n",
    "    s=input()\n",
    "    i.send_keys(s)"
   ]
  },
  {
   "cell_type": "code",
   "execution_count": null,
   "metadata": {},
   "outputs": [],
   "source": [
    "f1=x.find_elements_by_tag_name(\"button\")\n",
    "for i in f1:\n",
    "    if i.text=='Log In':\n",
    "        i.click()"
   ]
  },
  {
   "cell_type": "code",
   "execution_count": null,
   "metadata": {},
   "outputs": [],
   "source": [
    "f=x.find_element_by_xpath('/html/body/div[3]/div/div/div[3]/button[1]')\n",
    "f.click()"
   ]
  },
  {
   "cell_type": "code",
   "execution_count": null,
   "metadata": {},
   "outputs": [],
   "source": [
    "#task 2\n",
    "#type food in the search bar and extract the name of all the handles which are present in the drom down menu\n",
    "f2=x.find_element_by_xpath(\"/html/body/span/section/nav/div[2]/div/div/div[2]/input\")\n",
    "f2.send_keys('food')"
   ]
  },
  {
   "cell_type": "code",
   "execution_count": null,
   "metadata": {
    "scrolled": true
   },
   "outputs": [],
   "source": [
    "f2=x.find_element_by_class_name('fuqBx')\n",
    "for i in f2.find_elements_by_tag_name('a'):\n",
    "    print(i.text.strip('#'))"
   ]
  },
  {
   "cell_type": "code",
   "execution_count": null,
   "metadata": {},
   "outputs": [],
   "source": [
    "v=x.find_element_by_xpath('/html/body/span/section/nav/div[2]/div/div/div[2]/div[3]')\n",
    "v.click()"
   ]
  },
  {
   "cell_type": "code",
   "execution_count": null,
   "metadata": {},
   "outputs": [],
   "source": [
    "#task 3\n",
    "#search and open profile sodelhi\n",
    "f2=x.find_element_by_xpath('/html/body/span/section/nav/div[2]/div/div/div[2]/input')\n",
    "f2.send_keys('So Delhi')"
   ]
  },
  {
   "cell_type": "code",
   "execution_count": null,
   "metadata": {
    "scrolled": false
   },
   "outputs": [],
   "source": [
    "#task 3.1 and 4.1\n",
    "f2=x.find_element_by_class_name('fuqBx')\n",
    "for i in f2.find_elements_by_tag_name('a'):\n",
    "    s=i.get_attribute('href')\n",
    "    break\n",
    "x.get(s)"
   ]
  },
  {
   "cell_type": "code",
   "execution_count": null,
   "metadata": {},
   "outputs": [],
   "source": [
    "#task 4.2\n",
    "f3=x.find_element_by_tag_name('button')\n",
    "f3.click()\n",
    "print(\"following #sodelhi\")"
   ]
  },
  {
   "cell_type": "code",
   "execution_count": null,
   "metadata": {},
   "outputs": [],
   "source": [
    "#task 4.3\n",
    "f3.click()\n",
    "print('unfollowed #sodelhi')"
   ]
  },
  {
   "cell_type": "code",
   "execution_count": null,
   "metadata": {},
   "outputs": [],
   "source": [
    "#task 5.1\n",
    "#search for dilsefoodie and like as well as unlike first 30 posts\n",
    "f2=x.find_element_by_tag_name('input')\n",
    "f2.send_keys('#dilsefoodie')"
   ]
  },
  {
   "cell_type": "code",
   "execution_count": null,
   "metadata": {},
   "outputs": [],
   "source": [
    "f3=x.find_element_by_class_name('fuqBx')\n",
    "l=f3.find_element_by_tag_name('a')\n",
    "s=l.get_attribute('href')\n",
    "x.get(s)"
   ]
  },
  {
   "cell_type": "code",
   "execution_count": null,
   "metadata": {},
   "outputs": [],
   "source": [
    "from selenium.webdriver.support import expected_conditions as ec\n",
    "from selenium.webdriver.support.ui import WebDriverWait \n",
    "from selenium.common.exceptions import StaleElementReferenceException"
   ]
  },
  {
   "cell_type": "code",
   "execution_count": null,
   "metadata": {},
   "outputs": [],
   "source": [
    "#task 5\n",
    "import time\n",
    "f3=x.find_element_by_class_name(\"KC1QD\")\n",
    "current_h=x.execute_script('return document.body.scrollHeight;')\n",
    "while True:\n",
    "    x.execute_script('window.scrollBy(0,arguments[0]);',current_h)\n",
    "    new_h=x.execute_script('return document.body.scrollHeight;')\n",
    "    c=f3.find_elements_by_tag_name('a')\n",
    "    l=[]\n",
    "    for i in c:\n",
    "        l.append(i.get_attribute('href'))\n",
    "    if len(l)==30:\n",
    "        break\n",
    "    if current_h==new_h:\n",
    "        break\n",
    "    current_h=new_h   \n",
    "for i in l:\n",
    "    x.get(i)\n",
    "    time.sleep(3)\n",
    "    f4=x.find_elements_by_tag_name('button')\n",
    "    for v in f4:\n",
    "        s=v.get_attribute('class')\n",
    "        if s=='dCJp8 afkep':\n",
    "            k=v.find_element_by_tag_name('span')\n",
    "            if k.get_attribute('class')=='glyphsSpriteHeart__outline__24__grey_9 u-__7':\n",
    "                v.click()\n",
    "x.get('https://www.instagram.com/explore/tags/dilsefoodie/')"
   ]
  },
  {
   "cell_type": "code",
   "execution_count": null,
   "metadata": {},
   "outputs": [],
   "source": [
    "#task 6\n",
    "f=x.find_element_by_xpath(\"/html/body/span/section/nav/div[2]/div/div/div[2]/input\")\n",
    "f.send_keys(\"foodtalkindia\")"
   ]
  },
  {
   "cell_type": "code",
   "execution_count": null,
   "metadata": {},
   "outputs": [],
   "source": [
    "f2=x.find_element_by_class_name('fuqBx')\n",
    "i=f2.find_element_by_tag_name('a')\n",
    "s=i.get_attribute('href')\n",
    "x.get(s)"
   ]
  },
  {
   "cell_type": "code",
   "execution_count": null,
   "metadata": {},
   "outputs": [],
   "source": [
    "f=x.find_element_by_tag_name('main')\n",
    "f2=x.find_elements_by_tag_name('a')\n",
    "for i in f2:\n",
    "    s=i.get_attribute('class')\n",
    "    if s==' _81NM2':\n",
    "        s=i.get_attribute('href')\n",
    "        break\n",
    "i.click()"
   ]
  },
  {
   "cell_type": "code",
   "execution_count": null,
   "metadata": {},
   "outputs": [],
   "source": [
    "#document.querySelector(\"body > div.RnEpo.Yx5HN > div > div.isgrP\")\n",
    "import time\n",
    "current_h=x.execute_script('return document.querySelector(\"body > div.RnEpo.Yx5HN > div > div.isgrP\").scrollHeight')\n",
    "f3=x.find_element_by_class_name('PZuss')\n",
    "while True:\n",
    "    d=f3.find_elements_by_class_name('wFPL8')\n",
    "    if len(d)>=500:\n",
    "        break\n",
    "    x.execute_script('return document.querySelector(\"body > div.RnEpo.Yx5HN > div > div.isgrP\").scrollBy(0,arguments[0])',current_h)\n",
    "    time.sleep(3)\n",
    "    new_h=x.execute_script('return document.querySelector(\"body > div.RnEpo.Yx5HN > div > div.isgrP\").scrollHeight;')\n",
    "    #if current_h==new_h:\n",
    "    #    break \n",
    "    current_h=new_h"
   ]
  },
  {
   "cell_type": "code",
   "execution_count": null,
   "metadata": {},
   "outputs": [],
   "source": [
    "li=[]\n",
    "for i in d[:500]:\n",
    "    li.append(i.text)\n",
    "print('the list li contains the name of first 500 followers of foodtalkindia')"
   ]
  },
  {
   "cell_type": "code",
   "execution_count": null,
   "metadata": {},
   "outputs": [],
   "source": [
    "#code to close the followers window\n",
    "f=x.find_element_by_xpath('/html/body/div[2]/div/div[1]/div/div[2]/button')\n",
    "f.click()"
   ]
  },
  {
   "cell_type": "code",
   "execution_count": null,
   "metadata": {},
   "outputs": [],
   "source": [
    "# task 6 for sodelhi\n",
    "#extratx the name of first 500 followers\n",
    "f2=x.find_element_by_xpath('/html/body/span/section/nav/div[2]/div/div/div[2]/input')\n",
    "f2.send_keys('so delhi')"
   ]
  },
  {
   "cell_type": "code",
   "execution_count": null,
   "metadata": {},
   "outputs": [],
   "source": [
    "f3=x.find_element_by_class_name('fuqBx')\n",
    "l=f3.find_elements_by_tag_name('a')\n",
    "s=l[1].get_attribute('href')\n",
    "x.get(s)"
   ]
  },
  {
   "cell_type": "code",
   "execution_count": null,
   "metadata": {},
   "outputs": [],
   "source": [
    "f=x.find_element_by_tag_name('main')\n",
    "f2=x.find_elements_by_tag_name('a')\n",
    "for i in f2:\n",
    "    s=i.get_attribute('class')\n",
    "    if s==' _81NM2':\n",
    "        s=i.get_attribute('href')\n",
    "        break\n",
    "i.click()"
   ]
  },
  {
   "cell_type": "code",
   "execution_count": null,
   "metadata": {},
   "outputs": [],
   "source": [
    "import time\n",
    "current_h=x.execute_script('return document.querySelector(\"body > div.RnEpo.Yx5HN > div > div.isgrP\").scrollHeight')\n",
    "f3=x.find_element_by_class_name('PZuss')\n",
    "while True:\n",
    "    d=f3.find_elements_by_class_name('wFPL8')\n",
    "    if len(d)>=500:\n",
    "        break\n",
    "    x.execute_script('return document.querySelector(\"body > div.RnEpo.Yx5HN > div > div.isgrP\").scrollBy(0,arguments[0])',current_h)\n",
    "    time.sleep(3)\n",
    "    new_h=x.execute_script('return document.querySelector(\"body > div.RnEpo.Yx5HN > div > div.isgrP\").scrollHeight;')\n",
    "    #if current_h==new_h:\n",
    "    #    break \n",
    "    current_h=new_h"
   ]
  },
  {
   "cell_type": "code",
   "execution_count": null,
   "metadata": {},
   "outputs": [],
   "source": [
    "li=[]\n",
    "for i in d[:500]:\n",
    "    li.append(i.text)\n",
    "#print(len(li))\n",
    "print('the list li contains the name of first 500 followers of so delhi')"
   ]
  },
  {
   "cell_type": "code",
   "execution_count": null,
   "metadata": {},
   "outputs": [],
   "source": [
    "#task 7\n",
    "#view thw stories of coding ninjas\n",
    "f2=x.find_element_by_xpath('/html/body/span/section/nav/div[2]/div/div/div[2]/input')\n",
    "f2.send_keys('coding.ninjas')"
   ]
  },
  {
   "cell_type": "code",
   "execution_count": null,
   "metadata": {},
   "outputs": [],
   "source": [
    "f3=x.find_element_by_class_name('fuqBx')\n",
    "l=f3.find_elements_by_tag_name('a')\n",
    "s=l[0].get_attribute('href')\n",
    "x.get(s)"
   ]
  },
  {
   "cell_type": "code",
   "execution_count": null,
   "metadata": {},
   "outputs": [],
   "source": [
    "f=x.find_element_by_xpath(\"/html/body/span/section/main/div/header/div/div\")\n",
    "f.click()\n"
   ]
  }
 ],
 "metadata": {
  "kernelspec": {
   "display_name": "Python 3",
   "language": "python",
   "name": "python3"
  },
  "language_info": {
   "codemirror_mode": {
    "name": "ipython",
    "version": 3
   },
   "file_extension": ".py",
   "mimetype": "text/x-python",
   "name": "python",
   "nbconvert_exporter": "python",
   "pygments_lexer": "ipython3",
   "version": "3.7.7"
  }
 },
 "nbformat": 4,
 "nbformat_minor": 2
}
