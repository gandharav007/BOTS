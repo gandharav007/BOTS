{
 "cells": [
  {
   "cell_type": "code",
   "execution_count": null,
   "metadata": {},
   "outputs": [],
   "source": [
    "#https://www.instagram.com/accounts/login/?source=auth_switcher\n",
    "from selenium import webdriver as wb\n",
    "x=wb.Chrome('C:/Users/GANDHARAV/datascience and ml programs/chromedriver.exe')\n",
    "x.get('https://www.instagram.com/accounts/login/?source=auth_switcher')"
   ]
  },
  {
   "cell_type": "code",
   "execution_count": null,
   "metadata": {
    "scrolled": true
   },
   "outputs": [],
   "source": [
    "#task 1\n",
    "f=x.find_elements_by_tag_name('input')\n",
    "for i in f:\n",
    "    s=input()\n",
    "    i.send_keys(s)"
   ]
  },
  {
   "cell_type": "code",
   "execution_count": null,
   "metadata": {},
   "outputs": [],
   "source": [
    "f1=x.find_elements_by_tag_name(\"button\")\n",
    "for i in f1:\n",
    "    if i.text=='Log In':\n",
    "        i.click()"
   ]
  },
  {
   "cell_type": "code",
   "execution_count": null,
   "metadata": {},
   "outputs": [],
   "source": [
    "f=x.find_element_by_xpath('/html/body/div[3]/div/div/div[3]/button[1]')\n",
    "f.click()"
   ]
  },
  {
   "cell_type": "code",
   "execution_count": null,
   "metadata": {},
   "outputs": [],
   "source": [
    "f2=x.find_element_by_class_name(\"XTCLo\")\n",
    "f2.send_keys('food')"
   ]
  },
  {
   "cell_type": "code",
   "execution_count": null,
   "metadata": {
    "scrolled": false
   },
   "outputs": [],
   "source": [
    "#task 1\n",
    "f2=x.find_element_by_class_name('fuqBx')\n",
    "l=f2.find_elements_by_tag_name('a')\n",
    "l2=[]\n",
    "l3=[]\n",
    "k=0\n",
    "for i in l:\n",
    "    l1=i.text.split('\\n')\n",
    "    if l1[0].find('#')==-1 and i.get_attribute('href').find('locations')==-1:\n",
    "        l2.append(l1[0])\n",
    "        l3.append(i.get_attribute('href'))\n",
    "        k+=1\n",
    "    if k==10:\n",
    "        break"
   ]
  },
  {
   "cell_type": "code",
   "execution_count": null,
   "metadata": {
    "scrolled": true
   },
   "outputs": [],
   "source": [
    "#task 1.1 extract the number of followers of each handle\n",
    "import time\n",
    "l4=[]\n",
    "m=dict()\n",
    "h=dict()\n",
    "for i in range(10):\n",
    "    x.get(l3[i])\n",
    "    time.sleep(4)\n",
    "    s1=x.find_element_by_xpath('/html/body/span/section/main/div/header/section/ul/li[2]/a/span')\n",
    "    m[l3[i]]=int(s1.get_attribute('title').replace(',',''))\n",
    "    h[l2[i]]=int(s1.get_attribute('title').replace(',',''))"
   ]
  },
  {
   "cell_type": "code",
   "execution_count": null,
   "metadata": {
    "scrolled": false
   },
   "outputs": [],
   "source": [
    "l=sorted(m.items(),key=lambda k:(k[1],k[0]),reverse=True)\n",
    "l2=sorted(h.items(),key=lambda k:(k[1],k[0]),reverse=True)\n",
    "l=l[:5]\n",
    "l2=l2[:5]\n",
    "f=[]\n",
    "for i in range(5):\n",
    "    f.append(l[i][0])"
   ]
  },
  {
   "cell_type": "code",
   "execution_count": null,
   "metadata": {},
   "outputs": [],
   "source": [
    "#task 1.2\n",
    "#find the number of posts posted by each of the top 5 handles with most number of followers in the last three days\n",
    "from datetime import date\n",
    "z=str(date.today())\n",
    "z=int(z[8:10])\n",
    "p1=dict()\n",
    "r=['1','2','3']\n",
    "for i in range(5):\n",
    "    x.get(f[i])\n",
    "    time.sleep(2)\n",
    "    d=x.find_elements_by_class_name('_9AhH0')\n",
    "    for j in d:\n",
    "        j.click()\n",
    "        time.sleep(3)\n",
    "        t=x.find_element_by_class_name('_1o9PC')\n",
    "        n1=int(t.get_attribute('datetime')[8:10])\n",
    "        if (z-n1<=3):\n",
    "            if p1.get(l2[i][0],0):\n",
    "                p1[l2[i][0]]+=1\n",
    "            else:\n",
    "                p1[l2[i][0]]=1\n",
    "            x.back()\n",
    "        else:\n",
    "            x.back()\n",
    "            break\n",
    "    x.back()"
   ]
  },
  {
   "cell_type": "code",
   "execution_count": null,
   "metadata": {},
   "outputs": [],
   "source": [
    "#task 1.3\n",
    "#plot the graph showing the number of followers of the top 5 handles\n",
    "import matplotlib.pyplot as plt\n",
    "%matplotlib inline\n",
    "k1=[]\n",
    "k2=[]\n",
    "for i in l2:\n",
    "    k1.append(i[0])\n",
    "    k2.append(i[1])\n",
    "plt.bar(k1,k2)\n",
    "plt.xticks(rotation=40)\n",
    "plt.xlabel('INSTA HANDLES')\n",
    "plt.ylabel('(NUMBER OF FOLLOWERS)/(10^7)')\n",
    "plt.show()"
   ]
  },
  {
   "cell_type": "code",
   "execution_count": null,
   "metadata": {},
   "outputs": [],
   "source": [
    "#task 1.3\n",
    "#plot the bar graph showing the number of pictures posted by the top 5 handles in last 3 days\n",
    "k1=p1.keys()\n",
    "k2=p1.values()\n",
    "plt.bar(k1,k2)\n",
    "plt.xlabel('INSTA HANDLES')\n",
    "plt.ylabel('NO. PICTURES POSTED IN LAST 3 DAYS')\n",
    "plt.show()"
   ]
  },
  {
   "cell_type": "code",
   "execution_count": null,
   "metadata": {
    "scrolled": true
   },
   "outputs": [],
   "source": [
    "#task 2.1\n",
    "#extract all the words and hashtags used in top 10 posts of each handle\n",
    "b=dict()\n",
    "for i in range(5):\n",
    "    x.get(f[i])\n",
    "    time.sleep(2)\n",
    "    d=x.find_elements_by_class_name('_9AhH0')\n",
    "    for j in range(10):\n",
    "        d[j].click()\n",
    "        time.sleep(3)\n",
    "        a=x.find_element_by_class_name('C4VMK')\n",
    "        s=a.find_elements_by_tag_name('a')\n",
    "        for c in s:\n",
    "            if b.get(c.text,0)==0:\n",
    "                b[c.text]=1\n",
    "            else:\n",
    "                b[c.text]+=1\n",
    "        x.back()\n",
    "        time.sleep(1)"
   ]
  },
  {
   "cell_type": "code",
   "execution_count": null,
   "metadata": {},
   "outputs": [],
   "source": [
    "#task 2.2\n",
    "#prepare a csv file which shows the frequency of each word used\n",
    "import csv\n",
    "n1=open('new_file.csv','w')\n",
    "n2=csv.writer(n1)\n",
    "k=sorted(b.items())\n",
    "n2.writerows(k)"
   ]
  },
  {
   "cell_type": "code",
   "execution_count": null,
   "metadata": {},
   "outputs": [],
   "source": [
    "#task 2.3\n",
    "#open the csv file and calculate the frequency corresponding to each hashtag\n",
    "n3=open('new_file.csv','r')\n",
    "n2=csv.reader(n3)\n",
    "hashtags=dict()\n",
    "for row in n2:\n",
    "    if len(row)!=0:\n",
    "        if row[0].find('#')!=-1:\n",
    "            if hashtags.get(row[0],0)==0:\n",
    "                hashtags[row[0]]=int(row[1])\n",
    "            else:\n",
    "                hashtags[row[0]]+=int(row[1])"
   ]
  },
  {
   "cell_type": "code",
   "execution_count": null,
   "metadata": {},
   "outputs": [],
   "source": [
    "#task 2.4\n",
    "#draw a pichart displaying the amount of usage of the top 5 most popular hastags used by the handles\n",
    "import matplotlib.pyplot as plt\n",
    "%matplotlib inline\n",
    "l=sorted(hashtags.items(),key=lambda k:(k[1],k[0]),reverse=True)\n",
    "l=l[:5]\n",
    "tags=[]\n",
    "frequency=[]\n",
    "for i in l:\n",
    "    tags.append(i[0])\n",
    "    frequency.append(i[1])\n",
    "plt.pie(frequency,labels=tags,autopct=\"%.1f%%\")\n",
    "plt.show()"
   ]
  },
  {
   "cell_type": "code",
   "execution_count": null,
   "metadata": {},
   "outputs": [],
   "source": [
    "#task 3.1\n",
    "#extract the total amount of likes on first 10 carousels or posts of the handles\n",
    "from selenium.common.exceptions import NoSuchElementException\n",
    "likes=dict()\n",
    "for i in range(5):\n",
    "    x.get(f[i])\n",
    "    time.sleep(3)\n",
    "    d=set()\n",
    "    while(1):\n",
    "        time.sleep(1)\n",
    "        a=x.find_elements_by_class_name('v1Nh3')\n",
    "        for j in a:\n",
    "            if j not in d:\n",
    "                v=j.find_elements_by_tag_name('span')\n",
    "                if len(v)!=0:\n",
    "                    if v[0].get_attribute('aria-label')=='Video' or v[0].get_attribute('aria-label')=='IGTV':\n",
    "                        continue\n",
    "                d.add(j)\n",
    "                j.click()\n",
    "                time.sleep(4)\n",
    "                try:\n",
    "                    s=x.find_element_by_xpath('/html/body/div[3]/div[2]/div/article/div[2]/section[2]/div/div/button/span')\n",
    "                except NoSuchElementException:\n",
    "                    x.back()\n",
    "                    time.sleep(2)\n",
    "                    continue\n",
    "                k=s.text\n",
    "                k=int(k.replace(',',''))\n",
    "                if likes.get(l2[i][0],0)==0:\n",
    "                    likes[l2[i][0]]=k\n",
    "                else:\n",
    "                    likes[l2[i][0]]+=k\n",
    "                x.back()\n",
    "                if len(d)>=10:\n",
    "                    break\n",
    "        if len(d)>=10:\n",
    "            break\n",
    "        else:\n",
    "            current_h=x.execute_script('return document.body.scrollHeight;')\n",
    "            x.execute_script('window.scrollBy(0,arguments[0]);',current_h)\n",
    "            continue"
   ]
  },
  {
   "cell_type": "code",
   "execution_count": null,
   "metadata": {},
   "outputs": [],
   "source": [
    "#task 3.2\n",
    "#extract the amount of average likes and followers is to likes ratio for each handle\n",
    "average_likes=dict()\n",
    "likes_followers_ratio=dict()\n",
    "j=0\n",
    "for i in likes.items():\n",
    "    average_likes[i[0]]=int(i[1]/10)\n",
    "    likes_followers_ratio[i[0]]=l2[j][1]/average_likes[i[0]]\n",
    "    j+=1\n",
    "    if j==5:\n",
    "        break"
   ]
  },
  {
   "cell_type": "code",
   "execution_count": null,
   "metadata": {},
   "outputs": [],
   "source": [
    "#task 3.3\n",
    "#plot the graph for average likes of each handle\n",
    "import matplotlib.pyplot as plt\n",
    "%matplotlib inline\n",
    "k1=average_likes.keys()\n",
    "k2=average_likes.values()\n",
    "plt.bar(k1,k2)\n",
    "plt.xlabel('INSTA HANDLES')\n",
    "plt.ylabel('AVERAGE LIKES')\n",
    "plt.show()"
   ]
  },
  {
   "cell_type": "code",
   "execution_count": null,
   "metadata": {},
   "outputs": [],
   "source": [
    "#plot the graph for followers to likes ratio\n",
    "import matplotlib.pyplot as plt\n",
    "%matplotlib inline\n",
    "k1=likes_followers_ratio.keys()\n",
    "k2=likes_followers_ratio.values()\n",
    "plt.bar(k1,k2)\n",
    "plt.xlabel('INSTA HANDLES')\n",
    "plt.ylabel('FOLLOWERS TO LIKES RATIO')\n",
    "plt.show()"
   ]
  }
 ],
 "metadata": {
  "kernelspec": {
   "display_name": "Python 3",
   "language": "python",
   "name": "python3"
  },
  "language_info": {
   "codemirror_mode": {
    "name": "ipython",
    "version": 3
   },
   "file_extension": ".py",
   "mimetype": "text/x-python",
   "name": "python",
   "nbconvert_exporter": "python",
   "pygments_lexer": "ipython3",
   "version": "3.7.6"
  }
 },
 "nbformat": 4,
 "nbformat_minor": 2
}
